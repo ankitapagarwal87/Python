{
 "cells": [
  {
   "cell_type": "code",
   "execution_count": 1,
   "metadata": {},
   "outputs": [],
   "source": [
    "#importing required packages\n",
    "import pandas as pd\n",
    "import datetime\n",
    "import calendar\n",
    "from pylab import rcParams\n",
    "\n",
    "import matplotlib.pylab as plt\n",
    "%matplotlib inline\n",
    "import matplotlib\n",
    "matplotlib.rc('xtick', labelsize=40) \n",
    "matplotlib.rc('ytick', labelsize=40) \n",
    "\n",
    "\n",
    "import numpy as np\n",
    "\n",
    "import seaborn as sns\n",
    "sns.set(style=\"whitegrid\", color_codes=True)\n",
    "\n",
    "import statsmodels.formula.api as smf\n",
    "import statsmodels.api as sm\n",
    "\n",
    "from sklearn.model_selection import train_test_split\n",
    "from sklearn.metrics import r2_score\n",
    "from sklearn import model_selection\n",
    "from sklearn import metrics\n",
    "from sklearn.linear_model import LinearRegression\n",
    "from sklearn.metrics import mean_absolute_error, mean_squared_error\n",
    "from sklearn.ensemble import RandomForestRegressor\n",
    "from sklearn.tree import DecisionTreeRegressor\n",
    "\n",
    "#import warnings\n",
    "#warnings.filterwarnings('ignore')"
   ]
  },
  {
   "cell_type": "code",
   "execution_count": 2,
   "metadata": {},
   "outputs": [],
   "source": [
    "df= pd.read_csv(\"E:\\Simplilearn\\Data Science with Python\\Projects\\Walmart\\Walmart_Store_sales.csv\")"
   ]
  },
  {
   "cell_type": "code",
   "execution_count": 3,
   "metadata": {},
   "outputs": [
    {
     "data": {
      "text/html": [
       "<div>\n",
       "<style scoped>\n",
       "    .dataframe tbody tr th:only-of-type {\n",
       "        vertical-align: middle;\n",
       "    }\n",
       "\n",
       "    .dataframe tbody tr th {\n",
       "        vertical-align: top;\n",
       "    }\n",
       "\n",
       "    .dataframe thead th {\n",
       "        text-align: right;\n",
       "    }\n",
       "</style>\n",
       "<table border=\"1\" class=\"dataframe\">\n",
       "  <thead>\n",
       "    <tr style=\"text-align: right;\">\n",
       "      <th></th>\n",
       "      <th>Store</th>\n",
       "      <th>Date</th>\n",
       "      <th>Weekly_Sales</th>\n",
       "      <th>Holiday_Flag</th>\n",
       "      <th>Temperature</th>\n",
       "      <th>Fuel_Price</th>\n",
       "      <th>CPI</th>\n",
       "      <th>Unemployment</th>\n",
       "    </tr>\n",
       "  </thead>\n",
       "  <tbody>\n",
       "    <tr>\n",
       "      <th>0</th>\n",
       "      <td>1</td>\n",
       "      <td>05-02-2010</td>\n",
       "      <td>1643690.90</td>\n",
       "      <td>0</td>\n",
       "      <td>42.31</td>\n",
       "      <td>2.572</td>\n",
       "      <td>211.096358</td>\n",
       "      <td>8.106</td>\n",
       "    </tr>\n",
       "    <tr>\n",
       "      <th>1</th>\n",
       "      <td>1</td>\n",
       "      <td>12-02-2010</td>\n",
       "      <td>1641957.44</td>\n",
       "      <td>1</td>\n",
       "      <td>38.51</td>\n",
       "      <td>2.548</td>\n",
       "      <td>211.242170</td>\n",
       "      <td>8.106</td>\n",
       "    </tr>\n",
       "    <tr>\n",
       "      <th>2</th>\n",
       "      <td>1</td>\n",
       "      <td>19-02-2010</td>\n",
       "      <td>1611968.17</td>\n",
       "      <td>0</td>\n",
       "      <td>39.93</td>\n",
       "      <td>2.514</td>\n",
       "      <td>211.289143</td>\n",
       "      <td>8.106</td>\n",
       "    </tr>\n",
       "    <tr>\n",
       "      <th>3</th>\n",
       "      <td>1</td>\n",
       "      <td>26-02-2010</td>\n",
       "      <td>1409727.59</td>\n",
       "      <td>0</td>\n",
       "      <td>46.63</td>\n",
       "      <td>2.561</td>\n",
       "      <td>211.319643</td>\n",
       "      <td>8.106</td>\n",
       "    </tr>\n",
       "    <tr>\n",
       "      <th>4</th>\n",
       "      <td>1</td>\n",
       "      <td>05-03-2010</td>\n",
       "      <td>1554806.68</td>\n",
       "      <td>0</td>\n",
       "      <td>46.50</td>\n",
       "      <td>2.625</td>\n",
       "      <td>211.350143</td>\n",
       "      <td>8.106</td>\n",
       "    </tr>\n",
       "  </tbody>\n",
       "</table>\n",
       "</div>"
      ],
      "text/plain": [
       "   Store        Date  Weekly_Sales  Holiday_Flag  Temperature  Fuel_Price  \\\n",
       "0      1  05-02-2010    1643690.90             0        42.31       2.572   \n",
       "1      1  12-02-2010    1641957.44             1        38.51       2.548   \n",
       "2      1  19-02-2010    1611968.17             0        39.93       2.514   \n",
       "3      1  26-02-2010    1409727.59             0        46.63       2.561   \n",
       "4      1  05-03-2010    1554806.68             0        46.50       2.625   \n",
       "\n",
       "          CPI  Unemployment  \n",
       "0  211.096358         8.106  \n",
       "1  211.242170         8.106  \n",
       "2  211.289143         8.106  \n",
       "3  211.319643         8.106  \n",
       "4  211.350143         8.106  "
      ]
     },
     "execution_count": 3,
     "metadata": {},
     "output_type": "execute_result"
    }
   ],
   "source": [
    "df.head()"
   ]
  },
  {
   "cell_type": "code",
   "execution_count": 4,
   "metadata": {},
   "outputs": [
    {
     "data": {
      "text/plain": [
       "Store           0\n",
       "Date            0\n",
       "Weekly_Sales    0\n",
       "Holiday_Flag    0\n",
       "Temperature     0\n",
       "Fuel_Price      0\n",
       "CPI             0\n",
       "Unemployment    0\n",
       "dtype: int64"
      ]
     },
     "execution_count": 4,
     "metadata": {},
     "output_type": "execute_result"
    }
   ],
   "source": [
    "df.isnull().sum()"
   ]
  },
  {
   "cell_type": "code",
   "execution_count": 5,
   "metadata": {},
   "outputs": [
    {
     "data": {
      "text/plain": [
       "Store             int64\n",
       "Date             object\n",
       "Weekly_Sales    float64\n",
       "Holiday_Flag      int64\n",
       "Temperature     float64\n",
       "Fuel_Price      float64\n",
       "CPI             float64\n",
       "Unemployment    float64\n",
       "dtype: object"
      ]
     },
     "execution_count": 5,
     "metadata": {},
     "output_type": "execute_result"
    }
   ],
   "source": [
    "df.dtypes"
   ]
  },
  {
   "cell_type": "code",
   "execution_count": 6,
   "metadata": {},
   "outputs": [
    {
     "data": {
      "text/plain": [
       "(6435, 8)"
      ]
     },
     "execution_count": 6,
     "metadata": {},
     "output_type": "execute_result"
    }
   ],
   "source": [
    "df.shape"
   ]
  },
  {
   "cell_type": "code",
   "execution_count": 7,
   "metadata": {},
   "outputs": [],
   "source": [
    "#Adding Week, Quarter, Month, Year\n",
    "\n",
    "df['Date'] = pd.to_datetime(df['Date'], format='%d-%m-%Y')\n",
    "df['Week_Number'] = df['Date'].dt.week\n",
    "df['Quarter'] = df['Date'].dt.quarter\n",
    "df['Month'] = df['Date'].dt.month.apply(lambda x: calendar.month_abbr[x])\n",
    "df['Year'] = df['Date'].dt.year\n",
    "df['yr_qr'] = df['Year'].astype(str) + '_' + 'Q' + df['Quarter'].astype(str)"
   ]
  },
  {
   "cell_type": "code",
   "execution_count": 8,
   "metadata": {},
   "outputs": [
    {
     "data": {
      "text/html": [
       "<div>\n",
       "<style scoped>\n",
       "    .dataframe tbody tr th:only-of-type {\n",
       "        vertical-align: middle;\n",
       "    }\n",
       "\n",
       "    .dataframe tbody tr th {\n",
       "        vertical-align: top;\n",
       "    }\n",
       "\n",
       "    .dataframe thead th {\n",
       "        text-align: right;\n",
       "    }\n",
       "</style>\n",
       "<table border=\"1\" class=\"dataframe\">\n",
       "  <thead>\n",
       "    <tr style=\"text-align: right;\">\n",
       "      <th></th>\n",
       "      <th>Store</th>\n",
       "      <th>Date</th>\n",
       "      <th>Weekly_Sales</th>\n",
       "      <th>Holiday_Flag</th>\n",
       "      <th>Temperature</th>\n",
       "      <th>Fuel_Price</th>\n",
       "      <th>CPI</th>\n",
       "      <th>Unemployment</th>\n",
       "      <th>Week_Number</th>\n",
       "      <th>Quarter</th>\n",
       "      <th>Month</th>\n",
       "      <th>Year</th>\n",
       "      <th>yr_qr</th>\n",
       "    </tr>\n",
       "  </thead>\n",
       "  <tbody>\n",
       "    <tr>\n",
       "      <th>0</th>\n",
       "      <td>1</td>\n",
       "      <td>2010-02-05</td>\n",
       "      <td>1643690.90</td>\n",
       "      <td>0</td>\n",
       "      <td>42.31</td>\n",
       "      <td>2.572</td>\n",
       "      <td>211.096358</td>\n",
       "      <td>8.106</td>\n",
       "      <td>5</td>\n",
       "      <td>1</td>\n",
       "      <td>Feb</td>\n",
       "      <td>2010</td>\n",
       "      <td>2010_Q1</td>\n",
       "    </tr>\n",
       "    <tr>\n",
       "      <th>1</th>\n",
       "      <td>1</td>\n",
       "      <td>2010-02-12</td>\n",
       "      <td>1641957.44</td>\n",
       "      <td>1</td>\n",
       "      <td>38.51</td>\n",
       "      <td>2.548</td>\n",
       "      <td>211.242170</td>\n",
       "      <td>8.106</td>\n",
       "      <td>6</td>\n",
       "      <td>1</td>\n",
       "      <td>Feb</td>\n",
       "      <td>2010</td>\n",
       "      <td>2010_Q1</td>\n",
       "    </tr>\n",
       "    <tr>\n",
       "      <th>2</th>\n",
       "      <td>1</td>\n",
       "      <td>2010-02-19</td>\n",
       "      <td>1611968.17</td>\n",
       "      <td>0</td>\n",
       "      <td>39.93</td>\n",
       "      <td>2.514</td>\n",
       "      <td>211.289143</td>\n",
       "      <td>8.106</td>\n",
       "      <td>7</td>\n",
       "      <td>1</td>\n",
       "      <td>Feb</td>\n",
       "      <td>2010</td>\n",
       "      <td>2010_Q1</td>\n",
       "    </tr>\n",
       "    <tr>\n",
       "      <th>3</th>\n",
       "      <td>1</td>\n",
       "      <td>2010-02-26</td>\n",
       "      <td>1409727.59</td>\n",
       "      <td>0</td>\n",
       "      <td>46.63</td>\n",
       "      <td>2.561</td>\n",
       "      <td>211.319643</td>\n",
       "      <td>8.106</td>\n",
       "      <td>8</td>\n",
       "      <td>1</td>\n",
       "      <td>Feb</td>\n",
       "      <td>2010</td>\n",
       "      <td>2010_Q1</td>\n",
       "    </tr>\n",
       "    <tr>\n",
       "      <th>4</th>\n",
       "      <td>1</td>\n",
       "      <td>2010-03-05</td>\n",
       "      <td>1554806.68</td>\n",
       "      <td>0</td>\n",
       "      <td>46.50</td>\n",
       "      <td>2.625</td>\n",
       "      <td>211.350143</td>\n",
       "      <td>8.106</td>\n",
       "      <td>9</td>\n",
       "      <td>1</td>\n",
       "      <td>Mar</td>\n",
       "      <td>2010</td>\n",
       "      <td>2010_Q1</td>\n",
       "    </tr>\n",
       "    <tr>\n",
       "      <th>...</th>\n",
       "      <td>...</td>\n",
       "      <td>...</td>\n",
       "      <td>...</td>\n",
       "      <td>...</td>\n",
       "      <td>...</td>\n",
       "      <td>...</td>\n",
       "      <td>...</td>\n",
       "      <td>...</td>\n",
       "      <td>...</td>\n",
       "      <td>...</td>\n",
       "      <td>...</td>\n",
       "      <td>...</td>\n",
       "      <td>...</td>\n",
       "    </tr>\n",
       "    <tr>\n",
       "      <th>6430</th>\n",
       "      <td>45</td>\n",
       "      <td>2012-09-28</td>\n",
       "      <td>713173.95</td>\n",
       "      <td>0</td>\n",
       "      <td>64.88</td>\n",
       "      <td>3.997</td>\n",
       "      <td>192.013558</td>\n",
       "      <td>8.684</td>\n",
       "      <td>39</td>\n",
       "      <td>3</td>\n",
       "      <td>Sep</td>\n",
       "      <td>2012</td>\n",
       "      <td>2012_Q3</td>\n",
       "    </tr>\n",
       "    <tr>\n",
       "      <th>6431</th>\n",
       "      <td>45</td>\n",
       "      <td>2012-10-05</td>\n",
       "      <td>733455.07</td>\n",
       "      <td>0</td>\n",
       "      <td>64.89</td>\n",
       "      <td>3.985</td>\n",
       "      <td>192.170412</td>\n",
       "      <td>8.667</td>\n",
       "      <td>40</td>\n",
       "      <td>4</td>\n",
       "      <td>Oct</td>\n",
       "      <td>2012</td>\n",
       "      <td>2012_Q4</td>\n",
       "    </tr>\n",
       "    <tr>\n",
       "      <th>6432</th>\n",
       "      <td>45</td>\n",
       "      <td>2012-10-12</td>\n",
       "      <td>734464.36</td>\n",
       "      <td>0</td>\n",
       "      <td>54.47</td>\n",
       "      <td>4.000</td>\n",
       "      <td>192.327265</td>\n",
       "      <td>8.667</td>\n",
       "      <td>41</td>\n",
       "      <td>4</td>\n",
       "      <td>Oct</td>\n",
       "      <td>2012</td>\n",
       "      <td>2012_Q4</td>\n",
       "    </tr>\n",
       "    <tr>\n",
       "      <th>6433</th>\n",
       "      <td>45</td>\n",
       "      <td>2012-10-19</td>\n",
       "      <td>718125.53</td>\n",
       "      <td>0</td>\n",
       "      <td>56.47</td>\n",
       "      <td>3.969</td>\n",
       "      <td>192.330854</td>\n",
       "      <td>8.667</td>\n",
       "      <td>42</td>\n",
       "      <td>4</td>\n",
       "      <td>Oct</td>\n",
       "      <td>2012</td>\n",
       "      <td>2012_Q4</td>\n",
       "    </tr>\n",
       "    <tr>\n",
       "      <th>6434</th>\n",
       "      <td>45</td>\n",
       "      <td>2012-10-26</td>\n",
       "      <td>760281.43</td>\n",
       "      <td>0</td>\n",
       "      <td>58.85</td>\n",
       "      <td>3.882</td>\n",
       "      <td>192.308899</td>\n",
       "      <td>8.667</td>\n",
       "      <td>43</td>\n",
       "      <td>4</td>\n",
       "      <td>Oct</td>\n",
       "      <td>2012</td>\n",
       "      <td>2012_Q4</td>\n",
       "    </tr>\n",
       "  </tbody>\n",
       "</table>\n",
       "<p>6435 rows × 13 columns</p>\n",
       "</div>"
      ],
      "text/plain": [
       "      Store       Date  Weekly_Sales  Holiday_Flag  Temperature  Fuel_Price  \\\n",
       "0         1 2010-02-05    1643690.90             0        42.31       2.572   \n",
       "1         1 2010-02-12    1641957.44             1        38.51       2.548   \n",
       "2         1 2010-02-19    1611968.17             0        39.93       2.514   \n",
       "3         1 2010-02-26    1409727.59             0        46.63       2.561   \n",
       "4         1 2010-03-05    1554806.68             0        46.50       2.625   \n",
       "...     ...        ...           ...           ...          ...         ...   \n",
       "6430     45 2012-09-28     713173.95             0        64.88       3.997   \n",
       "6431     45 2012-10-05     733455.07             0        64.89       3.985   \n",
       "6432     45 2012-10-12     734464.36             0        54.47       4.000   \n",
       "6433     45 2012-10-19     718125.53             0        56.47       3.969   \n",
       "6434     45 2012-10-26     760281.43             0        58.85       3.882   \n",
       "\n",
       "             CPI  Unemployment  Week_Number  Quarter Month  Year    yr_qr  \n",
       "0     211.096358         8.106            5        1   Feb  2010  2010_Q1  \n",
       "1     211.242170         8.106            6        1   Feb  2010  2010_Q1  \n",
       "2     211.289143         8.106            7        1   Feb  2010  2010_Q1  \n",
       "3     211.319643         8.106            8        1   Feb  2010  2010_Q1  \n",
       "4     211.350143         8.106            9        1   Mar  2010  2010_Q1  \n",
       "...          ...           ...          ...      ...   ...   ...      ...  \n",
       "6430  192.013558         8.684           39        3   Sep  2012  2012_Q3  \n",
       "6431  192.170412         8.667           40        4   Oct  2012  2012_Q4  \n",
       "6432  192.327265         8.667           41        4   Oct  2012  2012_Q4  \n",
       "6433  192.330854         8.667           42        4   Oct  2012  2012_Q4  \n",
       "6434  192.308899         8.667           43        4   Oct  2012  2012_Q4  \n",
       "\n",
       "[6435 rows x 13 columns]"
      ]
     },
     "execution_count": 8,
     "metadata": {},
     "output_type": "execute_result"
    }
   ],
   "source": [
    "df_aux=df\n",
    "df_aux"
   ]
  },
  {
   "cell_type": "code",
   "execution_count": 9,
   "metadata": {},
   "outputs": [
    {
     "data": {
      "text/html": [
       "<div>\n",
       "<style scoped>\n",
       "    .dataframe tbody tr th:only-of-type {\n",
       "        vertical-align: middle;\n",
       "    }\n",
       "\n",
       "    .dataframe tbody tr th {\n",
       "        vertical-align: top;\n",
       "    }\n",
       "\n",
       "    .dataframe thead th {\n",
       "        text-align: right;\n",
       "    }\n",
       "</style>\n",
       "<table border=\"1\" class=\"dataframe\">\n",
       "  <thead>\n",
       "    <tr style=\"text-align: right;\">\n",
       "      <th></th>\n",
       "      <th>Weekly_Sales</th>\n",
       "      <th>%</th>\n",
       "    </tr>\n",
       "    <tr>\n",
       "      <th>Store</th>\n",
       "      <th></th>\n",
       "      <th></th>\n",
       "    </tr>\n",
       "  </thead>\n",
       "  <tbody>\n",
       "    <tr>\n",
       "      <th>1</th>\n",
       "      <td>2.224028e+08</td>\n",
       "      <td>3.30%</td>\n",
       "    </tr>\n",
       "    <tr>\n",
       "      <th>2</th>\n",
       "      <td>2.753824e+08</td>\n",
       "      <td>4.09%</td>\n",
       "    </tr>\n",
       "    <tr>\n",
       "      <th>3</th>\n",
       "      <td>5.758674e+07</td>\n",
       "      <td>0.85%</td>\n",
       "    </tr>\n",
       "    <tr>\n",
       "      <th>4</th>\n",
       "      <td>2.995440e+08</td>\n",
       "      <td>4.45%</td>\n",
       "    </tr>\n",
       "    <tr>\n",
       "      <th>5</th>\n",
       "      <td>4.547569e+07</td>\n",
       "      <td>0.67%</td>\n",
       "    </tr>\n",
       "  </tbody>\n",
       "</table>\n",
       "</div>"
      ],
      "text/plain": [
       "       Weekly_Sales      %\n",
       "Store                     \n",
       "1      2.224028e+08  3.30%\n",
       "2      2.753824e+08  4.09%\n",
       "3      5.758674e+07  0.85%\n",
       "4      2.995440e+08  4.45%\n",
       "5      4.547569e+07  0.67%"
      ]
     },
     "execution_count": 9,
     "metadata": {},
     "output_type": "execute_result"
    }
   ],
   "source": [
    "#Maximum Sales - groupby Store and sum the sales\n",
    "\n",
    "df1 = df.groupby(['Store']).agg({'Weekly_Sales': 'sum'})\n",
    "df1[\"%\"] = df1.apply(lambda x:  100*x / x.sum()).applymap('{:.2f}%'.format)\n",
    "df1.head()"
   ]
  },
  {
   "cell_type": "code",
   "execution_count": 10,
   "metadata": {},
   "outputs": [
    {
     "data": {
      "text/plain": [
       "301397792.46000004"
      ]
     },
     "execution_count": 10,
     "metadata": {},
     "output_type": "execute_result"
    }
   ],
   "source": [
    "max_storeSales = df1.max()['Weekly_Sales']\n",
    "max_storeSales"
   ]
  },
  {
   "cell_type": "code",
   "execution_count": 11,
   "metadata": {},
   "outputs": [
    {
     "name": "stdout",
     "output_type": "stream",
     "text": [
      "       Weekly_Sales      %\n",
      "Store                     \n",
      "20     3.013978e+08  4.47%\n"
     ]
    }
   ],
   "source": [
    "print(df1[df1.Weekly_Sales == df1.Weekly_Sales.max()])"
   ]
  },
  {
   "cell_type": "code",
   "execution_count": 12,
   "metadata": {},
   "outputs": [
    {
     "name": "stdout",
     "output_type": "stream",
     "text": [
      "        Weekly_Sales\n",
      "Store               \n",
      "14     317569.949476\n"
     ]
    }
   ],
   "source": [
    "#Maximum Standard Deviation\n",
    "\n",
    "df2 = df.groupby(['Store']).agg({'Weekly_Sales': 'std'})\n",
    "max_storeSales = df2.max()['Weekly_Sales']\n",
    "max_storeSales\n",
    "print(df2[df2.Weekly_Sales == df2.Weekly_Sales.max()])"
   ]
  },
  {
   "cell_type": "code",
   "execution_count": 13,
   "metadata": {},
   "outputs": [
    {
     "name": "stdout",
     "output_type": "stream",
     "text": [
      "52.21%\n"
     ]
    }
   ],
   "source": [
    "#Coefficient of Variation - the coefficient of mean to standard deviation\n",
    "#Coefficient of Variation = Standard deviation / mean\n",
    "\n",
    "SD = df1.std()['Weekly_Sales']\n",
    "Mean = df1.mean()['Weekly_Sales']\n",
    "CoV = \"{:.2%}\".format(SD/Mean)\n",
    "print(CoV)"
   ]
  },
  {
   "cell_type": "code",
   "execution_count": 14,
   "metadata": {},
   "outputs": [
    {
     "name": "stdout",
     "output_type": "stream",
     "text": [
      "               Weekly_Sales\n",
      "Store yr_qr                \n",
      "20    2010_Q4   32573122.65\n"
     ]
    }
   ],
   "source": [
    "#good quarterly growth rate in Q3’2012\n",
    "\n",
    "#Maximum Sales - groupby Store and sum the sales\n",
    "\n",
    "df3 = df.groupby(['Store','yr_qr']).agg({'Weekly_Sales': 'sum'})\n",
    "df3.sort_values(\"yr_qr\", axis = 0, ascending = True, \n",
    "                 inplace = True, na_position ='last') \n",
    "\n",
    "max_QtrSales = df3.max()['Weekly_Sales']\n",
    "print(df3[df3.Weekly_Sales == df3.Weekly_Sales.max()])"
   ]
  },
  {
   "cell_type": "code",
   "execution_count": 15,
   "metadata": {},
   "outputs": [
    {
     "data": {
      "text/html": [
       "<div>\n",
       "<style scoped>\n",
       "    .dataframe tbody tr th:only-of-type {\n",
       "        vertical-align: middle;\n",
       "    }\n",
       "\n",
       "    .dataframe tbody tr th {\n",
       "        vertical-align: top;\n",
       "    }\n",
       "\n",
       "    .dataframe thead th {\n",
       "        text-align: right;\n",
       "    }\n",
       "</style>\n",
       "<table border=\"1\" class=\"dataframe\">\n",
       "  <thead>\n",
       "    <tr style=\"text-align: right;\">\n",
       "      <th>yr_qr</th>\n",
       "      <th>2012_Q2</th>\n",
       "      <th>2012_Q3</th>\n",
       "      <th>Growth</th>\n",
       "    </tr>\n",
       "    <tr>\n",
       "      <th>Store</th>\n",
       "      <th></th>\n",
       "      <th></th>\n",
       "      <th></th>\n",
       "    </tr>\n",
       "  </thead>\n",
       "  <tbody>\n",
       "    <tr>\n",
       "      <th>1</th>\n",
       "      <td>20978760.12</td>\n",
       "      <td>20253947.78</td>\n",
       "      <td>-0.034550</td>\n",
       "    </tr>\n",
       "    <tr>\n",
       "      <th>2</th>\n",
       "      <td>25083604.88</td>\n",
       "      <td>24303354.86</td>\n",
       "      <td>-0.031106</td>\n",
       "    </tr>\n",
       "    <tr>\n",
       "      <th>3</th>\n",
       "      <td>5620316.49</td>\n",
       "      <td>5298005.47</td>\n",
       "      <td>-0.057347</td>\n",
       "    </tr>\n",
       "    <tr>\n",
       "      <th>4</th>\n",
       "      <td>28454363.67</td>\n",
       "      <td>27796792.46</td>\n",
       "      <td>-0.023110</td>\n",
       "    </tr>\n",
       "    <tr>\n",
       "      <th>5</th>\n",
       "      <td>4466363.69</td>\n",
       "      <td>4163790.99</td>\n",
       "      <td>-0.067745</td>\n",
       "    </tr>\n",
       "  </tbody>\n",
       "</table>\n",
       "</div>"
      ],
      "text/plain": [
       "yr_qr      2012_Q2      2012_Q3    Growth\n",
       "Store                                    \n",
       "1      20978760.12  20253947.78 -0.034550\n",
       "2      25083604.88  24303354.86 -0.031106\n",
       "3       5620316.49   5298005.47 -0.057347\n",
       "4      28454363.67  27796792.46 -0.023110\n",
       "5       4466363.69   4163790.99 -0.067745"
      ]
     },
     "execution_count": 15,
     "metadata": {},
     "output_type": "execute_result"
    }
   ],
   "source": [
    "qtrs=['2012_Q2','2012_Q3']\n",
    "sol_df=df[df.yr_qr.isin(qtrs)]\n",
    "sol_df.head()\n",
    "\n",
    "df4=pd.DataFrame(sol_df.groupby(['Store','yr_qr'])['Weekly_Sales'].sum())\n",
    "df4.reset_index(inplace=True) \n",
    "\n",
    "# Reshaping the data frame from long to wide format\n",
    "df5=df4.pivot(index='Store', columns='yr_qr', values='Weekly_Sales')\n",
    "\n",
    "df5['Growth'] = (df5['2012_Q3']/df5['2012_Q2'])-1\n",
    "df5.head()"
   ]
  },
  {
   "cell_type": "code",
   "execution_count": 16,
   "metadata": {},
   "outputs": [
    {
     "name": "stdout",
     "output_type": "stream",
     "text": [
      "yr_qr     2012_Q2     2012_Q3    Growth\n",
      "Store                                  \n",
      "7      7290859.27  8262787.39  0.133308\n"
     ]
    }
   ],
   "source": [
    "Store_max_growth = df5.max()['Growth']\n",
    "print(df5[df5.Growth == df5.Growth.max()])"
   ]
  },
  {
   "cell_type": "code",
   "execution_count": 17,
   "metadata": {},
   "outputs": [],
   "source": [
    "#holidays which have higher sales than the mean sales - Creating subsets and finding means\n",
    "\n",
    "holiday_df=df.loc[df['Holiday_Flag']==1]\n",
    "Nonholiday_df=df.loc[df['Holiday_Flag']==0]\n",
    "\n",
    "Nonholiday_df=pd.DataFrame(Nonholiday_df.groupby(['Year','Month'])['Weekly_Sales'].mean())\n",
    "holiday_df=pd.DataFrame(holiday_df.groupby(['Year','Month'])['Weekly_Sales'].mean())"
   ]
  },
  {
   "cell_type": "code",
   "execution_count": 18,
   "metadata": {},
   "outputs": [
    {
     "data": {
      "text/html": [
       "<div>\n",
       "<style scoped>\n",
       "    .dataframe tbody tr th:only-of-type {\n",
       "        vertical-align: middle;\n",
       "    }\n",
       "\n",
       "    .dataframe tbody tr th {\n",
       "        vertical-align: top;\n",
       "    }\n",
       "\n",
       "    .dataframe thead th {\n",
       "        text-align: right;\n",
       "    }\n",
       "</style>\n",
       "<table border=\"1\" class=\"dataframe\">\n",
       "  <thead>\n",
       "    <tr style=\"text-align: right;\">\n",
       "      <th></th>\n",
       "      <th></th>\n",
       "      <th>Average_Sales_Non-Holiday</th>\n",
       "      <th>Average_Sales_Holiday</th>\n",
       "      <th>Difference</th>\n",
       "    </tr>\n",
       "    <tr>\n",
       "      <th>Year</th>\n",
       "      <th>Month</th>\n",
       "      <th></th>\n",
       "      <th></th>\n",
       "      <th></th>\n",
       "    </tr>\n",
       "  </thead>\n",
       "  <tbody>\n",
       "    <tr>\n",
       "      <th rowspan=\"4\" valign=\"top\">2010</th>\n",
       "      <th>Dec</th>\n",
       "      <td>1.379600e+06</td>\n",
       "      <td>8.985004e+05</td>\n",
       "      <td>False</td>\n",
       "    </tr>\n",
       "    <tr>\n",
       "      <th>Feb</th>\n",
       "      <td>1.051824e+06</td>\n",
       "      <td>1.074148e+06</td>\n",
       "      <td>True</td>\n",
       "    </tr>\n",
       "    <tr>\n",
       "      <th>Nov</th>\n",
       "      <td>1.015055e+06</td>\n",
       "      <td>1.462689e+06</td>\n",
       "      <td>True</td>\n",
       "    </tr>\n",
       "    <tr>\n",
       "      <th>Sep</th>\n",
       "      <td>9.750630e+05</td>\n",
       "      <td>1.014098e+06</td>\n",
       "      <td>True</td>\n",
       "    </tr>\n",
       "    <tr>\n",
       "      <th rowspan=\"4\" valign=\"top\">2011</th>\n",
       "      <th>Dec</th>\n",
       "      <td>1.344642e+06</td>\n",
       "      <td>1.023166e+06</td>\n",
       "      <td>False</td>\n",
       "    </tr>\n",
       "    <tr>\n",
       "      <th>Feb</th>\n",
       "      <td>1.029594e+06</td>\n",
       "      <td>1.051915e+06</td>\n",
       "      <td>True</td>\n",
       "    </tr>\n",
       "    <tr>\n",
       "      <th>Nov</th>\n",
       "      <td>1.063472e+06</td>\n",
       "      <td>1.479858e+06</td>\n",
       "      <td>True</td>\n",
       "    </tr>\n",
       "    <tr>\n",
       "      <th>Sep</th>\n",
       "      <td>9.671362e+05</td>\n",
       "      <td>1.039183e+06</td>\n",
       "      <td>True</td>\n",
       "    </tr>\n",
       "    <tr>\n",
       "      <th rowspan=\"2\" valign=\"top\">2012</th>\n",
       "      <th>Feb</th>\n",
       "      <td>1.052253e+06</td>\n",
       "      <td>1.111320e+06</td>\n",
       "      <td>True</td>\n",
       "    </tr>\n",
       "    <tr>\n",
       "      <th>Sep</th>\n",
       "      <td>9.801147e+05</td>\n",
       "      <td>1.074001e+06</td>\n",
       "      <td>True</td>\n",
       "    </tr>\n",
       "  </tbody>\n",
       "</table>\n",
       "</div>"
      ],
      "text/plain": [
       "            Average_Sales_Non-Holiday  Average_Sales_Holiday  Difference\n",
       "Year Month                                                              \n",
       "2010 Dec                 1.379600e+06           8.985004e+05       False\n",
       "     Feb                 1.051824e+06           1.074148e+06        True\n",
       "     Nov                 1.015055e+06           1.462689e+06        True\n",
       "     Sep                 9.750630e+05           1.014098e+06        True\n",
       "2011 Dec                 1.344642e+06           1.023166e+06       False\n",
       "     Feb                 1.029594e+06           1.051915e+06        True\n",
       "     Nov                 1.063472e+06           1.479858e+06        True\n",
       "     Sep                 9.671362e+05           1.039183e+06        True\n",
       "2012 Feb                 1.052253e+06           1.111320e+06        True\n",
       "     Sep                 9.801147e+05           1.074001e+06        True"
      ]
     },
     "execution_count": 18,
     "metadata": {},
     "output_type": "execute_result"
    }
   ],
   "source": [
    "# holidays which have higher sales than the mean sales - merge and difference\n",
    "Holiday_sales_impact= pd.merge(Nonholiday_df,\n",
    "                 holiday_df,\n",
    "                 on=['Year', 'Month'], \n",
    "                 how='inner')\n",
    "\n",
    "Holiday_sales_impact.rename(columns={'Weekly_Sales_x':'Average_Sales_Non-Holiday', 'Weekly_Sales_y':'Average_Sales_Holiday'} , inplace = True)\n",
    "\n",
    "Holiday_sales_impact['Difference'] = Holiday_sales_impact[\"Average_Sales_Holiday\"] > Holiday_sales_impact[\"Average_Sales_Non-Holiday\"]\n",
    "                                     \n",
    "Holiday_sales_impact"
   ]
  },
  {
   "cell_type": "code",
   "execution_count": 19,
   "metadata": {},
   "outputs": [
    {
     "data": {
      "text/plain": [
       "<matplotlib.axes._subplots.AxesSubplot at 0x45448dbf48>"
      ]
     },
     "execution_count": 19,
     "metadata": {},
     "output_type": "execute_result"
    },
    {
     "data": {
      "image/png": "[encoded data removed]",
      "text/plain": [
       "<Figure size 432x288 with 1 Axes>"
      ]
     },
     "metadata": {},
     "output_type": "display_data"
    }
   ],
   "source": [
    "#monthly and semester view of sales in units and give insights\n",
    "\n",
    "#Montly_Sales_Trend\n",
    "Monthly_Sales = df.groupby(['Year','Month']).agg(['sum'])['Weekly_Sales'].reset_index().rename(columns={'sum':'Sales'})\n",
    "Monthly_Sales['M_Yr'] = Monthly_Sales['Year'].astype(str) + '_' + Monthly_Sales['Month'].astype(str)\n",
    "Monthly_Sales.head()\n",
    "Monthly_Sales.plot.bar(x='M_Yr', y='Sales')"
   ]
  },
  {
   "cell_type": "code",
   "execution_count": 20,
   "metadata": {},
   "outputs": [
    {
     "name": "stdout",
     "output_type": "stream",
     "text": [
      "   Year Month         Sales      M_Yr\n",
      "2  2010   Dec  2.887605e+08  2010_Dec\n"
     ]
    }
   ],
   "source": [
    "max_MonthlySales = Monthly_Sales.max()['Sales']\n",
    "print(Monthly_Sales[Monthly_Sales.Sales == Monthly_Sales.Sales.max()])"
   ]
  },
  {
   "cell_type": "code",
   "execution_count": 21,
   "metadata": {},
   "outputs": [
    {
     "name": "stdout",
     "output_type": "stream",
     "text": [
      "     Store  Year Month        Sales      M_Yr\n",
      "629     20  2010   Dec  13553791.64  2010_Dec\n"
     ]
    }
   ],
   "source": [
    "#Montly_Sales_Trend - Store wise\n",
    "\n",
    "Monthly_Sales = df.groupby(['Store','Year','Month']).agg(['sum'])['Weekly_Sales'].reset_index().rename(columns={'sum':'Sales'})\n",
    "Monthly_Sales['M_Yr'] = Monthly_Sales['Year'].astype(str) + '_' + Monthly_Sales['Month'].astype(str)\n",
    "max_MonthlySalesStore = Monthly_Sales.max()['Sales']\n",
    "print(Monthly_Sales[Monthly_Sales.Sales == Monthly_Sales.Sales.max()])"
   ]
  },
  {
   "cell_type": "code",
   "execution_count": 22,
   "metadata": {},
   "outputs": [
    {
     "data": {
      "text/plain": [
       "<matplotlib.axes._subplots.AxesSubplot at 0x4545a16a48>"
      ]
     },
     "execution_count": 22,
     "metadata": {},
     "output_type": "execute_result"
    },
    {
     "data": {
      "image/png": "[encoded data removed]",
      "text/plain": [
       "<Figure size 432x288 with 1 Axes>"
      ]
     },
     "metadata": {},
     "output_type": "display_data"
    }
   ],
   "source": [
    "#semester field\n",
    "conditions = [\n",
    "    (df['Quarter'] == 1) | (df['Quarter'] == 2) ,\n",
    "    (df['Quarter'] == 3) | (df['Quarter'] == 4) \n",
    "]\n",
    "choices = [1, 2]\n",
    "df['Semester'] = np.select(conditions, choices)\n",
    "\n",
    "#Semester_Sales_Trend\n",
    "Semester_Sales = df.groupby(['Year','Semester']).agg(['sum'])['Weekly_Sales'].reset_index().rename(columns={'sum':'Sales'})\n",
    "Semester_Sales['S_Yr'] = Semester_Sales['Year'].astype(str) + '_' + 'S' + Semester_Sales['Semester'].astype(str)\n",
    "\n",
    "Semester_Sales.plot.bar(x='S_Yr', y='Sales')"
   ]
  },
  {
   "cell_type": "code",
   "execution_count": 23,
   "metadata": {},
   "outputs": [
    {
     "name": "stdout",
     "output_type": "stream",
     "text": [
      "   Year  Semester         Sales     S_Yr\n",
      "3  2011         2  1.320860e+09  2011_S2\n"
     ]
    }
   ],
   "source": [
    "max_SemesterSales = Semester_Sales.max()['Sales']\n",
    "print(Semester_Sales[Semester_Sales.Sales == Semester_Sales.Sales.max()])"
   ]
  },
  {
   "cell_type": "code",
   "execution_count": 24,
   "metadata": {},
   "outputs": [
    {
     "name": "stdout",
     "output_type": "stream",
     "text": [
      "    Store  Year  Semester        Sales     S_Yr\n",
      "21      4  2011         2  60366595.85  2011_S2\n"
     ]
    }
   ],
   "source": [
    "#Semester_Sales_Trend - Storewise\n",
    "\n",
    "Semester_Sales = df.groupby(['Store','Year','Semester']).agg(['sum'])['Weekly_Sales'].reset_index().rename(columns={'sum':'Sales'})\n",
    "Semester_Sales['S_Yr'] = Semester_Sales['Year'].astype(str) + '_' + 'S' + Semester_Sales['Semester'].astype(str)\n",
    "max_SemesterSalesStore = Semester_Sales.max()['Sales']\n",
    "print(Semester_Sales[Semester_Sales.Sales == Semester_Sales.Sales.max()])"
   ]
  },
  {
   "cell_type": "code",
   "execution_count": 25,
   "metadata": {},
   "outputs": [],
   "source": [
    "df[\"Month1\"] = df[\"Date\"].apply(lambda x: x.month)"
   ]
  },
  {
   "cell_type": "code",
   "execution_count": 26,
   "metadata": {},
   "outputs": [
    {
     "data": {
      "text/html": [
       "<div>\n",
       "<style scoped>\n",
       "    .dataframe tbody tr th:only-of-type {\n",
       "        vertical-align: middle;\n",
       "    }\n",
       "\n",
       "    .dataframe tbody tr th {\n",
       "        vertical-align: top;\n",
       "    }\n",
       "\n",
       "    .dataframe thead th {\n",
       "        text-align: right;\n",
       "    }\n",
       "</style>\n",
       "<table border=\"1\" class=\"dataframe\">\n",
       "  <thead>\n",
       "    <tr style=\"text-align: right;\">\n",
       "      <th>Month1</th>\n",
       "      <th>1</th>\n",
       "      <th>2</th>\n",
       "      <th>3</th>\n",
       "      <th>4</th>\n",
       "      <th>5</th>\n",
       "      <th>6</th>\n",
       "      <th>7</th>\n",
       "      <th>8</th>\n",
       "      <th>9</th>\n",
       "      <th>10</th>\n",
       "      <th>11</th>\n",
       "      <th>12</th>\n",
       "    </tr>\n",
       "    <tr>\n",
       "      <th>Year</th>\n",
       "      <th></th>\n",
       "      <th></th>\n",
       "      <th></th>\n",
       "      <th></th>\n",
       "      <th></th>\n",
       "      <th></th>\n",
       "      <th></th>\n",
       "      <th></th>\n",
       "      <th></th>\n",
       "      <th></th>\n",
       "      <th></th>\n",
       "      <th></th>\n",
       "    </tr>\n",
       "  </thead>\n",
       "  <tbody>\n",
       "    <tr>\n",
       "      <th>2010</th>\n",
       "      <td>NaN</td>\n",
       "      <td>1.057405e+06</td>\n",
       "      <td>1.010666e+06</td>\n",
       "      <td>1.028499e+06</td>\n",
       "      <td>1.037283e+06</td>\n",
       "      <td>1.068034e+06</td>\n",
       "      <td>1.033689e+06</td>\n",
       "      <td>1.042445e+06</td>\n",
       "      <td>9.848216e+05</td>\n",
       "      <td>9.651637e+05</td>\n",
       "      <td>1.126963e+06</td>\n",
       "      <td>1.283380e+06</td>\n",
       "    </tr>\n",
       "    <tr>\n",
       "      <th>2011</th>\n",
       "      <td>909466.482389</td>\n",
       "      <td>1.035174e+06</td>\n",
       "      <td>9.964247e+05</td>\n",
       "      <td>1.006784e+06</td>\n",
       "      <td>1.009156e+06</td>\n",
       "      <td>1.054297e+06</td>\n",
       "      <td>1.021828e+06</td>\n",
       "      <td>1.047774e+06</td>\n",
       "      <td>9.815455e+05</td>\n",
       "      <td>1.018118e+06</td>\n",
       "      <td>1.167569e+06</td>\n",
       "      <td>1.280347e+06</td>\n",
       "    </tr>\n",
       "    <tr>\n",
       "      <th>2012</th>\n",
       "      <td>938302.620333</td>\n",
       "      <td>1.067020e+06</td>\n",
       "      <td>1.028932e+06</td>\n",
       "      <td>1.049561e+06</td>\n",
       "      <td>1.048703e+06</td>\n",
       "      <td>1.069379e+06</td>\n",
       "      <td>1.041719e+06</td>\n",
       "      <td>1.052670e+06</td>\n",
       "      <td>1.003586e+06</td>\n",
       "      <td>1.024232e+06</td>\n",
       "      <td>NaN</td>\n",
       "      <td>NaN</td>\n",
       "    </tr>\n",
       "  </tbody>\n",
       "</table>\n",
       "</div>"
      ],
      "text/plain": [
       "Month1             1             2             3             4             5   \\\n",
       "Year                                                                            \n",
       "2010              NaN  1.057405e+06  1.010666e+06  1.028499e+06  1.037283e+06   \n",
       "2011    909466.482389  1.035174e+06  9.964247e+05  1.006784e+06  1.009156e+06   \n",
       "2012    938302.620333  1.067020e+06  1.028932e+06  1.049561e+06  1.048703e+06   \n",
       "\n",
       "Month1            6             7             8             9             10  \\\n",
       "Year                                                                           \n",
       "2010    1.068034e+06  1.033689e+06  1.042445e+06  9.848216e+05  9.651637e+05   \n",
       "2011    1.054297e+06  1.021828e+06  1.047774e+06  9.815455e+05  1.018118e+06   \n",
       "2012    1.069379e+06  1.041719e+06  1.052670e+06  1.003586e+06  1.024232e+06   \n",
       "\n",
       "Month1            11            12  \n",
       "Year                                \n",
       "2010    1.126963e+06  1.283380e+06  \n",
       "2011    1.167569e+06  1.280347e+06  \n",
       "2012             NaN           NaN  "
      ]
     },
     "execution_count": 26,
     "metadata": {},
     "output_type": "execute_result"
    }
   ],
   "source": [
    "x = df.groupby([\"Year\", \"Month1\"]).mean().Weekly_Sales.unstack()\n",
    "x"
   ]
  },
  {
   "cell_type": "code",
   "execution_count": 27,
   "metadata": {},
   "outputs": [
    {
     "data": {
      "image/png": "[encoded data removed]",
      "text/plain": [
       "<Figure size 432x288 with 1 Axes>"
      ]
     },
     "metadata": {},
     "output_type": "display_data"
    }
   ],
   "source": [
    "plt.plot(x.loc[2010, :], label = \"2010\", color = \"red\", linewidth = 2)\n",
    "plt.plot(x.loc[2011, :], label = \"2011\", color = \"green\", linewidth = 1)\n",
    "plt.plot(x.loc[2012, :], label = \"2012\", color = \"blue\", linewidth=3)\n",
    "plt.legend(loc = \"best\")\n",
    "plt.title(\"Comparison\")\n",
    "plt.show()"
   ]
  },
  {
   "cell_type": "code",
   "execution_count": 28,
   "metadata": {},
   "outputs": [
    {
     "data": {
      "text/html": [
       "<div>\n",
       "<style scoped>\n",
       "    .dataframe tbody tr th:only-of-type {\n",
       "        vertical-align: middle;\n",
       "    }\n",
       "\n",
       "    .dataframe tbody tr th {\n",
       "        vertical-align: top;\n",
       "    }\n",
       "\n",
       "    .dataframe thead th {\n",
       "        text-align: right;\n",
       "    }\n",
       "</style>\n",
       "<table border=\"1\" class=\"dataframe\">\n",
       "  <thead>\n",
       "    <tr style=\"text-align: right;\">\n",
       "      <th></th>\n",
       "      <th>Store</th>\n",
       "      <th>Weekly_Sales</th>\n",
       "      <th>Holiday_Flag</th>\n",
       "      <th>Temperature</th>\n",
       "      <th>Fuel_Price</th>\n",
       "      <th>CPI</th>\n",
       "      <th>Unemployment</th>\n",
       "      <th>Week_Number</th>\n",
       "      <th>Quarter</th>\n",
       "      <th>Year</th>\n",
       "      <th>Semester</th>\n",
       "      <th>Month1</th>\n",
       "      <th>Day</th>\n",
       "      <th>WeekNum</th>\n",
       "    </tr>\n",
       "  </thead>\n",
       "  <tbody>\n",
       "    <tr>\n",
       "      <th>0</th>\n",
       "      <td>1.0</td>\n",
       "      <td>1643690.90</td>\n",
       "      <td>0.0</td>\n",
       "      <td>42.31</td>\n",
       "      <td>2.572</td>\n",
       "      <td>211.096358</td>\n",
       "      <td>8.106</td>\n",
       "      <td>5.0</td>\n",
       "      <td>1.0</td>\n",
       "      <td>2010.0</td>\n",
       "      <td>1.0</td>\n",
       "      <td>2.0</td>\n",
       "      <td>5.0</td>\n",
       "      <td>1.0</td>\n",
       "    </tr>\n",
       "    <tr>\n",
       "      <th>1</th>\n",
       "      <td>1.0</td>\n",
       "      <td>1641957.44</td>\n",
       "      <td>1.0</td>\n",
       "      <td>38.51</td>\n",
       "      <td>2.548</td>\n",
       "      <td>211.242170</td>\n",
       "      <td>8.106</td>\n",
       "      <td>6.0</td>\n",
       "      <td>1.0</td>\n",
       "      <td>2010.0</td>\n",
       "      <td>1.0</td>\n",
       "      <td>2.0</td>\n",
       "      <td>12.0</td>\n",
       "      <td>2.0</td>\n",
       "    </tr>\n",
       "    <tr>\n",
       "      <th>2</th>\n",
       "      <td>1.0</td>\n",
       "      <td>1611968.17</td>\n",
       "      <td>0.0</td>\n",
       "      <td>39.93</td>\n",
       "      <td>2.514</td>\n",
       "      <td>211.289143</td>\n",
       "      <td>8.106</td>\n",
       "      <td>7.0</td>\n",
       "      <td>1.0</td>\n",
       "      <td>2010.0</td>\n",
       "      <td>1.0</td>\n",
       "      <td>2.0</td>\n",
       "      <td>19.0</td>\n",
       "      <td>3.0</td>\n",
       "    </tr>\n",
       "    <tr>\n",
       "      <th>3</th>\n",
       "      <td>1.0</td>\n",
       "      <td>1409727.59</td>\n",
       "      <td>0.0</td>\n",
       "      <td>46.63</td>\n",
       "      <td>2.561</td>\n",
       "      <td>211.319643</td>\n",
       "      <td>8.106</td>\n",
       "      <td>8.0</td>\n",
       "      <td>1.0</td>\n",
       "      <td>2010.0</td>\n",
       "      <td>1.0</td>\n",
       "      <td>2.0</td>\n",
       "      <td>26.0</td>\n",
       "      <td>4.0</td>\n",
       "    </tr>\n",
       "    <tr>\n",
       "      <th>4</th>\n",
       "      <td>1.0</td>\n",
       "      <td>1554806.68</td>\n",
       "      <td>0.0</td>\n",
       "      <td>46.50</td>\n",
       "      <td>2.625</td>\n",
       "      <td>211.350143</td>\n",
       "      <td>8.106</td>\n",
       "      <td>9.0</td>\n",
       "      <td>1.0</td>\n",
       "      <td>2010.0</td>\n",
       "      <td>1.0</td>\n",
       "      <td>3.0</td>\n",
       "      <td>5.0</td>\n",
       "      <td>1.0</td>\n",
       "    </tr>\n",
       "  </tbody>\n",
       "</table>\n",
       "</div>"
      ],
      "text/plain": [
       "   Store  Weekly_Sales  Holiday_Flag  Temperature  Fuel_Price         CPI  \\\n",
       "0    1.0    1643690.90           0.0        42.31       2.572  211.096358   \n",
       "1    1.0    1641957.44           1.0        38.51       2.548  211.242170   \n",
       "2    1.0    1611968.17           0.0        39.93       2.514  211.289143   \n",
       "3    1.0    1409727.59           0.0        46.63       2.561  211.319643   \n",
       "4    1.0    1554806.68           0.0        46.50       2.625  211.350143   \n",
       "\n",
       "   Unemployment  Week_Number  Quarter    Year  Semester  Month1   Day  WeekNum  \n",
       "0         8.106          5.0      1.0  2010.0       1.0     2.0   5.0      1.0  \n",
       "1         8.106          6.0      1.0  2010.0       1.0     2.0  12.0      2.0  \n",
       "2         8.106          7.0      1.0  2010.0       1.0     2.0  19.0      3.0  \n",
       "3         8.106          8.0      1.0  2010.0       1.0     2.0  26.0      4.0  \n",
       "4         8.106          9.0      1.0  2010.0       1.0     3.0   5.0      1.0  "
      ]
     },
     "execution_count": 28,
     "metadata": {},
     "output_type": "execute_result"
    }
   ],
   "source": [
    "# B. Statistical Model - For Store 1 – Build prediction models to forecast demand\n",
    "#Change dates into days by creating new variable.\n",
    "\n",
    "df['Day'] = df.Date.apply(lambda x: x.day)\n",
    "df['WeekNum'] = pd.cut(df.Day, bins = [1,7,14,21,28, 31], labels = [1,2,3,4,5], include_lowest=True)\n",
    "df.drop(['Date','yr_qr','Month'], axis = 1, inplace = True)\n",
    "df = df.astype(np.float64)\n",
    "df.head()"
   ]
  },
  {
   "cell_type": "code",
   "execution_count": 29,
   "metadata": {},
   "outputs": [
    {
     "data": {
      "text/html": [
       "<div>\n",
       "<style scoped>\n",
       "    .dataframe tbody tr th:only-of-type {\n",
       "        vertical-align: middle;\n",
       "    }\n",
       "\n",
       "    .dataframe tbody tr th {\n",
       "        vertical-align: top;\n",
       "    }\n",
       "\n",
       "    .dataframe thead th {\n",
       "        text-align: right;\n",
       "    }\n",
       "</style>\n",
       "<table border=\"1\" class=\"dataframe\">\n",
       "  <thead>\n",
       "    <tr style=\"text-align: right;\">\n",
       "      <th></th>\n",
       "      <th>Store</th>\n",
       "      <th>Weekly_Sales</th>\n",
       "      <th>Holiday_Flag</th>\n",
       "      <th>Temperature</th>\n",
       "      <th>Fuel_Price</th>\n",
       "      <th>CPI</th>\n",
       "      <th>Unemployment</th>\n",
       "      <th>Week_Number</th>\n",
       "      <th>Quarter</th>\n",
       "      <th>Year</th>\n",
       "      <th>Semester</th>\n",
       "      <th>Month1</th>\n",
       "      <th>Day</th>\n",
       "      <th>WeekNum</th>\n",
       "    </tr>\n",
       "  </thead>\n",
       "  <tbody>\n",
       "    <tr>\n",
       "      <th>0</th>\n",
       "      <td>1.0</td>\n",
       "      <td>1643690.90</td>\n",
       "      <td>0.0</td>\n",
       "      <td>42.31</td>\n",
       "      <td>2.572</td>\n",
       "      <td>211.096358</td>\n",
       "      <td>8.106</td>\n",
       "      <td>5.0</td>\n",
       "      <td>1.0</td>\n",
       "      <td>2010.0</td>\n",
       "      <td>1.0</td>\n",
       "      <td>2.0</td>\n",
       "      <td>5.0</td>\n",
       "      <td>1.0</td>\n",
       "    </tr>\n",
       "    <tr>\n",
       "      <th>1</th>\n",
       "      <td>1.0</td>\n",
       "      <td>1641957.44</td>\n",
       "      <td>1.0</td>\n",
       "      <td>38.51</td>\n",
       "      <td>2.548</td>\n",
       "      <td>211.242170</td>\n",
       "      <td>8.106</td>\n",
       "      <td>6.0</td>\n",
       "      <td>1.0</td>\n",
       "      <td>2010.0</td>\n",
       "      <td>1.0</td>\n",
       "      <td>2.0</td>\n",
       "      <td>12.0</td>\n",
       "      <td>2.0</td>\n",
       "    </tr>\n",
       "    <tr>\n",
       "      <th>2</th>\n",
       "      <td>1.0</td>\n",
       "      <td>1611968.17</td>\n",
       "      <td>0.0</td>\n",
       "      <td>39.93</td>\n",
       "      <td>2.514</td>\n",
       "      <td>211.289143</td>\n",
       "      <td>8.106</td>\n",
       "      <td>7.0</td>\n",
       "      <td>1.0</td>\n",
       "      <td>2010.0</td>\n",
       "      <td>1.0</td>\n",
       "      <td>2.0</td>\n",
       "      <td>19.0</td>\n",
       "      <td>3.0</td>\n",
       "    </tr>\n",
       "    <tr>\n",
       "      <th>3</th>\n",
       "      <td>1.0</td>\n",
       "      <td>1409727.59</td>\n",
       "      <td>0.0</td>\n",
       "      <td>46.63</td>\n",
       "      <td>2.561</td>\n",
       "      <td>211.319643</td>\n",
       "      <td>8.106</td>\n",
       "      <td>8.0</td>\n",
       "      <td>1.0</td>\n",
       "      <td>2010.0</td>\n",
       "      <td>1.0</td>\n",
       "      <td>2.0</td>\n",
       "      <td>26.0</td>\n",
       "      <td>4.0</td>\n",
       "    </tr>\n",
       "    <tr>\n",
       "      <th>4</th>\n",
       "      <td>1.0</td>\n",
       "      <td>1554806.68</td>\n",
       "      <td>0.0</td>\n",
       "      <td>46.50</td>\n",
       "      <td>2.625</td>\n",
       "      <td>211.350143</td>\n",
       "      <td>8.106</td>\n",
       "      <td>9.0</td>\n",
       "      <td>1.0</td>\n",
       "      <td>2010.0</td>\n",
       "      <td>1.0</td>\n",
       "      <td>3.0</td>\n",
       "      <td>5.0</td>\n",
       "      <td>1.0</td>\n",
       "    </tr>\n",
       "  </tbody>\n",
       "</table>\n",
       "</div>"
      ],
      "text/plain": [
       "   Store  Weekly_Sales  Holiday_Flag  Temperature  Fuel_Price         CPI  \\\n",
       "0    1.0    1643690.90           0.0        42.31       2.572  211.096358   \n",
       "1    1.0    1641957.44           1.0        38.51       2.548  211.242170   \n",
       "2    1.0    1611968.17           0.0        39.93       2.514  211.289143   \n",
       "3    1.0    1409727.59           0.0        46.63       2.561  211.319643   \n",
       "4    1.0    1554806.68           0.0        46.50       2.625  211.350143   \n",
       "\n",
       "   Unemployment  Week_Number  Quarter    Year  Semester  Month1   Day  WeekNum  \n",
       "0         8.106          5.0      1.0  2010.0       1.0     2.0   5.0      1.0  \n",
       "1         8.106          6.0      1.0  2010.0       1.0     2.0  12.0      2.0  \n",
       "2         8.106          7.0      1.0  2010.0       1.0     2.0  19.0      3.0  \n",
       "3         8.106          8.0      1.0  2010.0       1.0     2.0  26.0      4.0  \n",
       "4         8.106          9.0      1.0  2010.0       1.0     3.0   5.0      1.0  "
      ]
     },
     "execution_count": 29,
     "metadata": {},
     "output_type": "execute_result"
    }
   ],
   "source": [
    "df.head()"
   ]
  },
  {
   "cell_type": "code",
   "execution_count": 30,
   "metadata": {},
   "outputs": [],
   "source": [
    "#Creating a subset for Store 1\n",
    "Store1_df=df.loc[df['Store']==1]\n",
    "Store1_df=Store1_df[['Weekly_Sales','Day','Month1','WeekNum','Year', 'Fuel_Price', 'CPI', 'Unemployment','Holiday_Flag', 'Temperature']]"
   ]
  },
  {
   "cell_type": "code",
   "execution_count": 31,
   "metadata": {},
   "outputs": [
    {
     "data": {
      "text/html": [
       "<div>\n",
       "<style scoped>\n",
       "    .dataframe tbody tr th:only-of-type {\n",
       "        vertical-align: middle;\n",
       "    }\n",
       "\n",
       "    .dataframe tbody tr th {\n",
       "        vertical-align: top;\n",
       "    }\n",
       "\n",
       "    .dataframe thead th {\n",
       "        text-align: right;\n",
       "    }\n",
       "</style>\n",
       "<table border=\"1\" class=\"dataframe\">\n",
       "  <thead>\n",
       "    <tr style=\"text-align: right;\">\n",
       "      <th></th>\n",
       "      <th>Weekly_Sales</th>\n",
       "      <th>Day</th>\n",
       "      <th>Month1</th>\n",
       "      <th>WeekNum</th>\n",
       "      <th>Year</th>\n",
       "      <th>Fuel_Price</th>\n",
       "      <th>CPI</th>\n",
       "      <th>Unemployment</th>\n",
       "      <th>Holiday_Flag</th>\n",
       "      <th>Temperature</th>\n",
       "    </tr>\n",
       "  </thead>\n",
       "  <tbody>\n",
       "    <tr>\n",
       "      <th>Weekly_Sales</th>\n",
       "      <td>1.000000</td>\n",
       "      <td>-0.271685</td>\n",
       "      <td>0.202188</td>\n",
       "      <td>-0.249095</td>\n",
       "      <td>0.152396</td>\n",
       "      <td>0.124592</td>\n",
       "      <td>0.225408</td>\n",
       "      <td>-0.097955</td>\n",
       "      <td>0.194905</td>\n",
       "      <td>-0.222701</td>\n",
       "    </tr>\n",
       "    <tr>\n",
       "      <th>Day</th>\n",
       "      <td>-0.271685</td>\n",
       "      <td>1.000000</td>\n",
       "      <td>0.015192</td>\n",
       "      <td>0.975592</td>\n",
       "      <td>0.006406</td>\n",
       "      <td>0.030806</td>\n",
       "      <td>0.033588</td>\n",
       "      <td>-0.018342</td>\n",
       "      <td>0.044526</td>\n",
       "      <td>0.051077</td>\n",
       "    </tr>\n",
       "    <tr>\n",
       "      <th>Month1</th>\n",
       "      <td>0.202188</td>\n",
       "      <td>0.015192</td>\n",
       "      <td>1.000000</td>\n",
       "      <td>0.047315</td>\n",
       "      <td>-0.194465</td>\n",
       "      <td>-0.101256</td>\n",
       "      <td>0.050952</td>\n",
       "      <td>0.040821</td>\n",
       "      <td>0.122996</td>\n",
       "      <td>0.246417</td>\n",
       "    </tr>\n",
       "    <tr>\n",
       "      <th>WeekNum</th>\n",
       "      <td>-0.249095</td>\n",
       "      <td>0.975592</td>\n",
       "      <td>0.047315</td>\n",
       "      <td>1.000000</td>\n",
       "      <td>-0.010680</td>\n",
       "      <td>0.033077</td>\n",
       "      <td>0.024007</td>\n",
       "      <td>0.015458</td>\n",
       "      <td>0.045056</td>\n",
       "      <td>0.081582</td>\n",
       "    </tr>\n",
       "    <tr>\n",
       "      <th>Year</th>\n",
       "      <td>0.152396</td>\n",
       "      <td>0.006406</td>\n",
       "      <td>-0.194465</td>\n",
       "      <td>-0.010680</td>\n",
       "      <td>1.000000</td>\n",
       "      <td>0.809769</td>\n",
       "      <td>0.948141</td>\n",
       "      <td>-0.798149</td>\n",
       "      <td>-0.056783</td>\n",
       "      <td>0.068843</td>\n",
       "    </tr>\n",
       "    <tr>\n",
       "      <th>Fuel_Price</th>\n",
       "      <td>0.124592</td>\n",
       "      <td>0.030806</td>\n",
       "      <td>-0.101256</td>\n",
       "      <td>0.033077</td>\n",
       "      <td>0.809769</td>\n",
       "      <td>1.000000</td>\n",
       "      <td>0.755259</td>\n",
       "      <td>-0.513944</td>\n",
       "      <td>-0.085903</td>\n",
       "      <td>0.228493</td>\n",
       "    </tr>\n",
       "    <tr>\n",
       "      <th>CPI</th>\n",
       "      <td>0.225408</td>\n",
       "      <td>0.033588</td>\n",
       "      <td>0.050952</td>\n",
       "      <td>0.024007</td>\n",
       "      <td>0.948141</td>\n",
       "      <td>0.755259</td>\n",
       "      <td>1.000000</td>\n",
       "      <td>-0.813471</td>\n",
       "      <td>-0.028919</td>\n",
       "      <td>0.118503</td>\n",
       "    </tr>\n",
       "    <tr>\n",
       "      <th>Unemployment</th>\n",
       "      <td>-0.097955</td>\n",
       "      <td>-0.018342</td>\n",
       "      <td>0.040821</td>\n",
       "      <td>0.015458</td>\n",
       "      <td>-0.798149</td>\n",
       "      <td>-0.513944</td>\n",
       "      <td>-0.813471</td>\n",
       "      <td>1.000000</td>\n",
       "      <td>0.082949</td>\n",
       "      <td>-0.180695</td>\n",
       "    </tr>\n",
       "    <tr>\n",
       "      <th>Holiday_Flag</th>\n",
       "      <td>0.194905</td>\n",
       "      <td>0.044526</td>\n",
       "      <td>0.122996</td>\n",
       "      <td>0.045056</td>\n",
       "      <td>-0.056783</td>\n",
       "      <td>-0.085903</td>\n",
       "      <td>-0.028919</td>\n",
       "      <td>0.082949</td>\n",
       "      <td>1.000000</td>\n",
       "      <td>-0.200543</td>\n",
       "    </tr>\n",
       "    <tr>\n",
       "      <th>Temperature</th>\n",
       "      <td>-0.222701</td>\n",
       "      <td>0.051077</td>\n",
       "      <td>0.246417</td>\n",
       "      <td>0.081582</td>\n",
       "      <td>0.068843</td>\n",
       "      <td>0.228493</td>\n",
       "      <td>0.118503</td>\n",
       "      <td>-0.180695</td>\n",
       "      <td>-0.200543</td>\n",
       "      <td>1.000000</td>\n",
       "    </tr>\n",
       "  </tbody>\n",
       "</table>\n",
       "</div>"
      ],
      "text/plain": [
       "              Weekly_Sales       Day    Month1   WeekNum      Year  \\\n",
       "Weekly_Sales      1.000000 -0.271685  0.202188 -0.249095  0.152396   \n",
       "Day              -0.271685  1.000000  0.015192  0.975592  0.006406   \n",
       "Month1            0.202188  0.015192  1.000000  0.047315 -0.194465   \n",
       "WeekNum          -0.249095  0.975592  0.047315  1.000000 -0.010680   \n",
       "Year              0.152396  0.006406 -0.194465 -0.010680  1.000000   \n",
       "Fuel_Price        0.124592  0.030806 -0.101256  0.033077  0.809769   \n",
       "CPI               0.225408  0.033588  0.050952  0.024007  0.948141   \n",
       "Unemployment     -0.097955 -0.018342  0.040821  0.015458 -0.798149   \n",
       "Holiday_Flag      0.194905  0.044526  0.122996  0.045056 -0.056783   \n",
       "Temperature      -0.222701  0.051077  0.246417  0.081582  0.068843   \n",
       "\n",
       "              Fuel_Price       CPI  Unemployment  Holiday_Flag  Temperature  \n",
       "Weekly_Sales    0.124592  0.225408     -0.097955      0.194905    -0.222701  \n",
       "Day             0.030806  0.033588     -0.018342      0.044526     0.051077  \n",
       "Month1         -0.101256  0.050952      0.040821      0.122996     0.246417  \n",
       "WeekNum         0.033077  0.024007      0.015458      0.045056     0.081582  \n",
       "Year            0.809769  0.948141     -0.798149     -0.056783     0.068843  \n",
       "Fuel_Price      1.000000  0.755259     -0.513944     -0.085903     0.228493  \n",
       "CPI             0.755259  1.000000     -0.813471     -0.028919     0.118503  \n",
       "Unemployment   -0.513944 -0.813471      1.000000      0.082949    -0.180695  \n",
       "Holiday_Flag   -0.085903 -0.028919      0.082949      1.000000    -0.200543  \n",
       "Temperature     0.228493  0.118503     -0.180695     -0.200543     1.000000  "
      ]
     },
     "execution_count": 31,
     "metadata": {},
     "output_type": "execute_result"
    }
   ],
   "source": [
    "Store1_df.corr()"
   ]
  },
  {
   "cell_type": "code",
   "execution_count": 32,
   "metadata": {},
   "outputs": [
    {
     "data": {
      "image/png": "[encoded data removed]",
      "text/plain": [
       "<Figure size 432x288 with 1 Axes>"
      ]
     },
     "metadata": {},
     "output_type": "display_data"
    },
    {
     "data": {
      "image/png": "[encoded data removed]",
      "text/plain": [
       "<Figure size 432x288 with 1 Axes>"
      ]
     },
     "metadata": {},
     "output_type": "display_data"
    },
    {
     "data": {
      "image/png": "[encoded data removed]",
      "text/plain": [
       "<Figure size 432x288 with 1 Axes>"
      ]
     },
     "metadata": {},
     "output_type": "display_data"
    }
   ],
   "source": [
    "def scatter(Store1_df, column):\n",
    "    plt.figure()\n",
    "    plt.scatter(Store1_df[column] , Store1_df['Weekly_Sales'])\n",
    "    plt.ylabel('Weekly_Sales')\n",
    "    plt.xlabel(column)\n",
    "    \n",
    "scatter(Store1_df, 'Fuel_Price')\n",
    "scatter(Store1_df, 'CPI')\n",
    "scatter(Store1_df, 'Unemployment')"
   ]
  },
  {
   "cell_type": "code",
   "execution_count": 33,
   "metadata": {},
   "outputs": [
    {
     "data": {
      "image/png": "[encoded data removed]",
      "text/plain": [
       "<Figure size 720x504 with 2 Axes>"
      ]
     },
     "metadata": {},
     "output_type": "display_data"
    }
   ],
   "source": [
    "# Correlation Matrix Heatmap\n",
    "\n",
    "f, ax = plt.subplots(figsize=(10, 7))\n",
    "corr = Store1_df.corr()\n",
    "\n",
    "hm = sns.heatmap(round(corr,2), annot=True, ax=ax, cmap=\"coolwarm\",fmt='.2f',\n",
    "                 linewidths=.05)\n",
    "f.subplots_adjust(top=0.93)\n",
    "t= f.suptitle('Correlation Heatmap', fontsize=14)"
   ]
  },
  {
   "cell_type": "code",
   "execution_count": 34,
   "metadata": {},
   "outputs": [
    {
     "data": {
      "text/html": [
       "<div>\n",
       "<style scoped>\n",
       "    .dataframe tbody tr th:only-of-type {\n",
       "        vertical-align: middle;\n",
       "    }\n",
       "\n",
       "    .dataframe tbody tr th {\n",
       "        vertical-align: top;\n",
       "    }\n",
       "\n",
       "    .dataframe thead th {\n",
       "        text-align: right;\n",
       "    }\n",
       "</style>\n",
       "<table border=\"1\" class=\"dataframe\">\n",
       "  <thead>\n",
       "    <tr style=\"text-align: right;\">\n",
       "      <th></th>\n",
       "      <th>Weekly_Sales</th>\n",
       "      <th>Day</th>\n",
       "      <th>Month1</th>\n",
       "      <th>Year</th>\n",
       "      <th>CPI</th>\n",
       "      <th>Unemployment</th>\n",
       "      <th>Holiday_Flag</th>\n",
       "      <th>Temperature</th>\n",
       "    </tr>\n",
       "  </thead>\n",
       "  <tbody>\n",
       "    <tr>\n",
       "      <th>0</th>\n",
       "      <td>1643690.90</td>\n",
       "      <td>5.0</td>\n",
       "      <td>2.0</td>\n",
       "      <td>2010.0</td>\n",
       "      <td>211.096358</td>\n",
       "      <td>8.106</td>\n",
       "      <td>0.0</td>\n",
       "      <td>42.31</td>\n",
       "    </tr>\n",
       "    <tr>\n",
       "      <th>1</th>\n",
       "      <td>1641957.44</td>\n",
       "      <td>12.0</td>\n",
       "      <td>2.0</td>\n",
       "      <td>2010.0</td>\n",
       "      <td>211.242170</td>\n",
       "      <td>8.106</td>\n",
       "      <td>1.0</td>\n",
       "      <td>38.51</td>\n",
       "    </tr>\n",
       "    <tr>\n",
       "      <th>2</th>\n",
       "      <td>1611968.17</td>\n",
       "      <td>19.0</td>\n",
       "      <td>2.0</td>\n",
       "      <td>2010.0</td>\n",
       "      <td>211.289143</td>\n",
       "      <td>8.106</td>\n",
       "      <td>0.0</td>\n",
       "      <td>39.93</td>\n",
       "    </tr>\n",
       "    <tr>\n",
       "      <th>3</th>\n",
       "      <td>1409727.59</td>\n",
       "      <td>26.0</td>\n",
       "      <td>2.0</td>\n",
       "      <td>2010.0</td>\n",
       "      <td>211.319643</td>\n",
       "      <td>8.106</td>\n",
       "      <td>0.0</td>\n",
       "      <td>46.63</td>\n",
       "    </tr>\n",
       "    <tr>\n",
       "      <th>4</th>\n",
       "      <td>1554806.68</td>\n",
       "      <td>5.0</td>\n",
       "      <td>3.0</td>\n",
       "      <td>2010.0</td>\n",
       "      <td>211.350143</td>\n",
       "      <td>8.106</td>\n",
       "      <td>0.0</td>\n",
       "      <td>46.50</td>\n",
       "    </tr>\n",
       "  </tbody>\n",
       "</table>\n",
       "</div>"
      ],
      "text/plain": [
       "   Weekly_Sales   Day  Month1    Year         CPI  Unemployment  Holiday_Flag  \\\n",
       "0    1643690.90   5.0     2.0  2010.0  211.096358         8.106           0.0   \n",
       "1    1641957.44  12.0     2.0  2010.0  211.242170         8.106           1.0   \n",
       "2    1611968.17  19.0     2.0  2010.0  211.289143         8.106           0.0   \n",
       "3    1409727.59  26.0     2.0  2010.0  211.319643         8.106           0.0   \n",
       "4    1554806.68   5.0     3.0  2010.0  211.350143         8.106           0.0   \n",
       "\n",
       "   Temperature  \n",
       "0        42.31  \n",
       "1        38.51  \n",
       "2        39.93  \n",
       "3        46.63  \n",
       "4        46.50  "
      ]
     },
     "execution_count": 34,
     "metadata": {},
     "output_type": "execute_result"
    }
   ],
   "source": [
    "features=Store1_df[['Weekly_Sales','Day','Month1','Year', 'CPI', 'Unemployment','Holiday_Flag', 'Temperature']]\n",
    "features.head()"
   ]
  },
  {
   "cell_type": "code",
   "execution_count": 35,
   "metadata": {},
   "outputs": [],
   "source": [
    "#Splitting data into train and test\n",
    "\n",
    "train,test = train_test_split(features,test_size=0.2,random_state=39)"
   ]
  },
  {
   "cell_type": "code",
   "execution_count": 36,
   "metadata": {},
   "outputs": [
    {
     "data": {
      "text/html": [
       "<table class=\"simpletable\">\n",
       "<caption>OLS Regression Results</caption>\n",
       "<tr>\n",
       "  <th>Dep. Variable:</th>      <td>Weekly_Sales</td>   <th>  R-squared:         </th> <td>   0.196</td>\n",
       "</tr>\n",
       "<tr>\n",
       "  <th>Model:</th>                   <td>OLS</td>       <th>  Adj. R-squared:    </th> <td>   0.174</td>\n",
       "</tr>\n",
       "<tr>\n",
       "  <th>Method:</th>             <td>Least Squares</td>  <th>  F-statistic:       </th> <td>   8.935</td>\n",
       "</tr>\n",
       "<tr>\n",
       "  <th>Date:</th>             <td>Fri, 05 Jun 2020</td> <th>  Prob (F-statistic):</th> <td>2.39e-05</td>\n",
       "</tr>\n",
       "<tr>\n",
       "  <th>Time:</th>                 <td>14:32:00</td>     <th>  Log-Likelihood:    </th> <td> -1503.6</td>\n",
       "</tr>\n",
       "<tr>\n",
       "  <th>No. Observations:</th>      <td>   114</td>      <th>  AIC:               </th> <td>   3015.</td>\n",
       "</tr>\n",
       "<tr>\n",
       "  <th>Df Residuals:</th>          <td>   110</td>      <th>  BIC:               </th> <td>   3026.</td>\n",
       "</tr>\n",
       "<tr>\n",
       "  <th>Df Model:</th>              <td>     3</td>      <th>                     </th>     <td> </td>   \n",
       "</tr>\n",
       "<tr>\n",
       "  <th>Covariance Type:</th>      <td>nonrobust</td>    <th>                     </th>     <td> </td>   \n",
       "</tr>\n",
       "</table>\n",
       "<table class=\"simpletable\">\n",
       "<tr>\n",
       "        <td></td>          <th>coef</th>     <th>std err</th>      <th>t</th>      <th>P>|t|</th>  <th>[0.025</th>    <th>0.975]</th>  \n",
       "</tr>\n",
       "<tr>\n",
       "  <th>Intercept</th>    <td>-4.474e+05</td> <td> 6.32e+05</td> <td>   -0.707</td> <td> 0.481</td> <td> -1.7e+06</td> <td> 8.06e+05</td>\n",
       "</tr>\n",
       "<tr>\n",
       "  <th>Temperature</th>  <td>-2779.9958</td> <td>  915.429</td> <td>   -3.037</td> <td> 0.003</td> <td>-4594.161</td> <td> -965.831</td>\n",
       "</tr>\n",
       "<tr>\n",
       "  <th>Holiday_Flag</th> <td> 1.064e+05</td> <td> 4.96e+04</td> <td>    2.148</td> <td> 0.034</td> <td> 8220.541</td> <td> 2.05e+05</td>\n",
       "</tr>\n",
       "<tr>\n",
       "  <th>CPI</th>          <td> 1.009e+04</td> <td> 2930.164</td> <td>    3.442</td> <td> 0.001</td> <td> 4279.643</td> <td> 1.59e+04</td>\n",
       "</tr>\n",
       "</table>\n",
       "<table class=\"simpletable\">\n",
       "<tr>\n",
       "  <th>Omnibus:</th>       <td>43.875</td> <th>  Durbin-Watson:     </th> <td>   1.907</td>\n",
       "</tr>\n",
       "<tr>\n",
       "  <th>Prob(Omnibus):</th> <td> 0.000</td> <th>  Jarque-Bera (JB):  </th> <td> 139.782</td>\n",
       "</tr>\n",
       "<tr>\n",
       "  <th>Skew:</th>          <td> 1.350</td> <th>  Prob(JB):          </th> <td>4.43e-31</td>\n",
       "</tr>\n",
       "<tr>\n",
       "  <th>Kurtosis:</th>      <td> 7.705</td> <th>  Cond. No.          </th> <td>1.16e+04</td>\n",
       "</tr>\n",
       "</table><br/><br/>Warnings:<br/>[1] Standard Errors assume that the covariance matrix of the errors is correctly specified.<br/>[2] The condition number is large, 1.16e+04. This might indicate that there are<br/>strong multicollinearity or other numerical problems."
      ],
      "text/plain": [
       "<class 'statsmodels.iolib.summary.Summary'>\n",
       "\"\"\"\n",
       "                            OLS Regression Results                            \n",
       "==============================================================================\n",
       "Dep. Variable:           Weekly_Sales   R-squared:                       0.196\n",
       "Model:                            OLS   Adj. R-squared:                  0.174\n",
       "Method:                 Least Squares   F-statistic:                     8.935\n",
       "Date:                Fri, 05 Jun 2020   Prob (F-statistic):           2.39e-05\n",
       "Time:                        14:32:00   Log-Likelihood:                -1503.6\n",
       "No. Observations:                 114   AIC:                             3015.\n",
       "Df Residuals:                     110   BIC:                             3026.\n",
       "Df Model:                           3                                         \n",
       "Covariance Type:            nonrobust                                         \n",
       "================================================================================\n",
       "                   coef    std err          t      P>|t|      [0.025      0.975]\n",
       "--------------------------------------------------------------------------------\n",
       "Intercept    -4.474e+05   6.32e+05     -0.707      0.481    -1.7e+06    8.06e+05\n",
       "Temperature  -2779.9958    915.429     -3.037      0.003   -4594.161    -965.831\n",
       "Holiday_Flag  1.064e+05   4.96e+04      2.148      0.034    8220.541    2.05e+05\n",
       "CPI           1.009e+04   2930.164      3.442      0.001    4279.643    1.59e+04\n",
       "==============================================================================\n",
       "Omnibus:                       43.875   Durbin-Watson:                   1.907\n",
       "Prob(Omnibus):                  0.000   Jarque-Bera (JB):              139.782\n",
       "Skew:                           1.350   Prob(JB):                     4.43e-31\n",
       "Kurtosis:                       7.705   Cond. No.                     1.16e+04\n",
       "==============================================================================\n",
       "\n",
       "Warnings:\n",
       "[1] Standard Errors assume that the covariance matrix of the errors is correctly specified.\n",
       "[2] The condition number is large, 1.16e+04. This might indicate that there are\n",
       "strong multicollinearity or other numerical problems.\n",
       "\"\"\""
      ]
     },
     "execution_count": 36,
     "metadata": {},
     "output_type": "execute_result"
    }
   ],
   "source": [
    "#Linear Regression – Hypothesize if CPI, unemployment, and fuel price have any impact on sales.\n",
    "\n",
    "lm = smf.ols(formula='Weekly_Sales ~ Temperature + Holiday_Flag  + CPI ' , data=train).fit()\n",
    "lm.summary()"
   ]
  },
  {
   "cell_type": "code",
   "execution_count": 37,
   "metadata": {},
   "outputs": [],
   "source": [
    "features1=features[['Weekly_Sales','Day','Month1','Year']]"
   ]
  },
  {
   "cell_type": "code",
   "execution_count": 38,
   "metadata": {},
   "outputs": [],
   "source": [
    "#Loading test and train data set\n",
    "\n",
    "X = features1\n",
    "Y = Store1_df['Weekly_Sales']\n",
    "\n",
    "X_train,X_test,Y_train,Y_test = train_test_split( X, Y, test_size=0.20, random_state=42)"
   ]
  },
  {
   "cell_type": "code",
   "execution_count": 39,
   "metadata": {},
   "outputs": [
    {
     "name": "stdout",
     "output_type": "stream",
     "text": [
      "Intercept:  -1.862645149230957e-09\n",
      "Coefficient:  [ 1.00000000e+00  1.03982846e-13 -8.81859399e-14  9.10074316e-13]\n"
     ]
    }
   ],
   "source": [
    "#Linear Regression\n",
    "\n",
    "linear_reg = LinearRegression()\n",
    "linear_reg.fit(X_train,Y_train)\n",
    "\n",
    "print(\"Intercept: \", linear_reg.intercept_)\n",
    "print(\"Coefficient: \" , linear_reg.coef_)"
   ]
  },
  {
   "cell_type": "code",
   "execution_count": 40,
   "metadata": {},
   "outputs": [
    {
     "name": "stdout",
     "output_type": "stream",
     "text": [
      "[1684519.99 1503284.06 1550229.22 1881176.67 1636263.41 1425100.71\n",
      " 1592409.97 1629391.28 1604775.58 1542561.09 1316899.31 1624383.75\n",
      " 2033320.66 1597868.05 1550369.92 1455090.69 1508237.76 1635078.41\n",
      " 1540421.49 1488538.09 1391256.12 1595901.87 1677472.78 1899676.88\n",
      " 1456800.28 1891034.93 1545418.53 1554806.68 1605491.78]\n"
     ]
    }
   ],
   "source": [
    "y_pred = linear_reg.predict(X_test)\n",
    "print(y_pred)"
   ]
  },
  {
   "cell_type": "code",
   "execution_count": 41,
   "metadata": {},
   "outputs": [
    {
     "name": "stdout",
     "output_type": "stream",
     "text": [
      "0.00\n"
     ]
    }
   ],
   "source": [
    "mse = metrics.mean_squared_error(Y_test,y_pred)\n",
    "rmse = np.sqrt(mse)\n",
    "print('%.2f'%rmse)"
   ]
  },
  {
   "cell_type": "code",
   "execution_count": 42,
   "metadata": {},
   "outputs": [
    {
     "data": {
      "text/plain": [
       "Text(0, 0.5, 'Predicted Values')"
      ]
     },
     "execution_count": 42,
     "metadata": {},
     "output_type": "execute_result"
    },
    {
     "data": {
      "image/png": "[encoded data removed]",
      "text/plain": [
       "<Figure size 432x288 with 1 Axes>"
      ]
     },
     "metadata": {},
     "output_type": "display_data"
    }
   ],
   "source": [
    "plt.scatter(Y_test,y_pred)\n",
    "plt.xlabel('Y Test (True Values)')\n",
    "plt.ylabel('Predicted Values')"
   ]
  },
  {
   "cell_type": "code",
   "execution_count": 43,
   "metadata": {},
   "outputs": [
    {
     "name": "stdout",
     "output_type": "stream",
     "text": [
      "MAE: 0.00\n",
      "MSE: 0.00\n",
      "RMSE: 0.00\n"
     ]
    }
   ],
   "source": [
    "print('MAE:', '%.2f'%metrics.mean_absolute_error(Y_test,y_pred))\n",
    "print('MSE:', '%.2f'%metrics.mean_squared_error(Y_test,y_pred))\n",
    "print('RMSE:', '%.2f'%np.sqrt(metrics.mean_squared_error(Y_test,y_pred)))"
   ]
  },
  {
   "cell_type": "code",
   "execution_count": 44,
   "metadata": {},
   "outputs": [
    {
     "name": "stdout",
     "output_type": "stream",
     "text": [
      "Accuracy:100 % \n",
      "\n"
     ]
    }
   ],
   "source": [
    "##1.Linear Regression\n",
    "\n",
    "clf = LinearRegression()\n",
    "\n",
    "clf.fit(X_train, Y_train)\n",
    "\n",
    "y_pred_lr=clf.predict(X_test)\n",
    "\n",
    "acc_lr=round( clf.score(X_train, Y_train) * 100, 2)\n",
    "\n",
    "print (\"Accuracy:%i %% \\n\"%acc_lr)"
   ]
  },
  {
   "cell_type": "code",
   "execution_count": 45,
   "metadata": {},
   "outputs": [
    {
     "name": "stdout",
     "output_type": "stream",
     "text": [
      "Accuracy: 99 % \n",
      "\n"
     ]
    }
   ],
   "source": [
    "##2. Random Forest\n",
    "\n",
    "clf = RandomForestRegressor(n_estimators=100)\n",
    "\n",
    "clf.fit(X_train, Y_train)\n",
    "\n",
    "y_pred_rf=clf.predict(X_test)\n",
    "\n",
    "acc_rf= round(clf.score(X_train, Y_train) * 100, 2)\n",
    "\n",
    "print (\"Accuracy: %i %% \\n\"%acc_rf)"
   ]
  },
  {
   "cell_type": "code",
   "execution_count": 46,
   "metadata": {},
   "outputs": [
    {
     "name": "stdout",
     "output_type": "stream",
     "text": [
      "Accuracy: 100 % \n",
      "\n"
     ]
    }
   ],
   "source": [
    "##3. Decision Tree\n",
    "\n",
    "clf=DecisionTreeRegressor()\n",
    "\n",
    "clf.fit(X_train, Y_train)\n",
    "\n",
    "y_pred_dt= clf.predict(X_test)\n",
    "\n",
    "acc_dt = round( clf.score(X_train, Y_train) * 100, 2)\n",
    "\n",
    "print (\"Accuracy: %i %% \\n\"%acc_dt)"
   ]
  },
  {
   "cell_type": "code",
   "execution_count": 48,
   "metadata": {},
   "outputs": [
    {
     "data": {
      "text/html": [
       "<div>\n",
       "<style scoped>\n",
       "    .dataframe tbody tr th:only-of-type {\n",
       "        vertical-align: middle;\n",
       "    }\n",
       "\n",
       "    .dataframe tbody tr th {\n",
       "        vertical-align: top;\n",
       "    }\n",
       "\n",
       "    .dataframe thead th {\n",
       "        text-align: right;\n",
       "    }\n",
       "</style>\n",
       "<table border=\"1\" class=\"dataframe\">\n",
       "  <thead>\n",
       "    <tr style=\"text-align: right;\">\n",
       "      <th></th>\n",
       "      <th>Model</th>\n",
       "      <th>Score</th>\n",
       "    </tr>\n",
       "  </thead>\n",
       "  <tbody>\n",
       "    <tr>\n",
       "      <th>0</th>\n",
       "      <td>Linear Regression</td>\n",
       "      <td>100.00</td>\n",
       "    </tr>\n",
       "    <tr>\n",
       "      <th>2</th>\n",
       "      <td>Decision Tree</td>\n",
       "      <td>100.00</td>\n",
       "    </tr>\n",
       "    <tr>\n",
       "      <th>1</th>\n",
       "      <td>Random Forest</td>\n",
       "      <td>99.37</td>\n",
       "    </tr>\n",
       "  </tbody>\n",
       "</table>\n",
       "</div>"
      ],
      "text/plain": [
       "               Model   Score\n",
       "0  Linear Regression  100.00\n",
       "2      Decision Tree  100.00\n",
       "1      Random Forest   99.37"
      ]
     },
     "execution_count": 48,
     "metadata": {},
     "output_type": "execute_result"
    }
   ],
   "source": [
    "##Comparing Models - Let's compare the accuracy score of all the regression models used above.\n",
    "\n",
    "models = pd.DataFrame({\n",
    "    'Model': ['Linear Regression','Random Forest','Decision Tree'],\n",
    "    \n",
    "    'Score': [acc_lr, acc_rf,acc_dt]\n",
    "    })\n",
    "\n",
    "models.sort_values(by='Score', ascending=False)"
   ]
  },
  {
   "cell_type": "code",
   "execution_count": 49,
   "metadata": {},
   "outputs": [
    {
     "data": {
      "text/html": [
       "<div>\n",
       "<style scoped>\n",
       "    .dataframe tbody tr th:only-of-type {\n",
       "        vertical-align: middle;\n",
       "    }\n",
       "\n",
       "    .dataframe tbody tr th {\n",
       "        vertical-align: top;\n",
       "    }\n",
       "\n",
       "    .dataframe thead th {\n",
       "        text-align: right;\n",
       "    }\n",
       "</style>\n",
       "<table border=\"1\" class=\"dataframe\">\n",
       "  <thead>\n",
       "    <tr style=\"text-align: right;\">\n",
       "      <th></th>\n",
       "      <th>Store_Weekly_Sales</th>\n",
       "      <th>Predicted_Weekly_Sales_linear</th>\n",
       "    </tr>\n",
       "  </thead>\n",
       "  <tbody>\n",
       "    <tr>\n",
       "      <th>6</th>\n",
       "      <td>1472515.79</td>\n",
       "      <td>1684519.99</td>\n",
       "    </tr>\n",
       "    <tr>\n",
       "      <th>122</th>\n",
       "      <td>1697230.96</td>\n",
       "      <td>1503284.06</td>\n",
       "    </tr>\n",
       "    <tr>\n",
       "      <th>112</th>\n",
       "      <td>1649604.63</td>\n",
       "      <td>1550229.22</td>\n",
       "    </tr>\n",
       "    <tr>\n",
       "      <th>119</th>\n",
       "      <td>1595901.87</td>\n",
       "      <td>1881176.67</td>\n",
       "    </tr>\n",
       "    <tr>\n",
       "      <th>97</th>\n",
       "      <td>1881176.67</td>\n",
       "      <td>1636263.41</td>\n",
       "    </tr>\n",
       "  </tbody>\n",
       "</table>\n",
       "</div>"
      ],
      "text/plain": [
       "     Store_Weekly_Sales  Predicted_Weekly_Sales_linear\n",
       "6            1472515.79                     1684519.99\n",
       "122          1697230.96                     1503284.06\n",
       "112          1649604.63                     1550229.22\n",
       "119          1595901.87                     1881176.67\n",
       "97           1881176.67                     1636263.41"
      ]
     },
     "execution_count": 49,
     "metadata": {},
     "output_type": "execute_result"
    }
   ],
   "source": [
    "submission = pd.DataFrame({\n",
    "        \"Store_Weekly_Sales\": test.Weekly_Sales,\n",
    "        \"Predicted_Weekly_Sales_linear\": y_pred_lr\n",
    "    })\n",
    "submission.head()"
   ]
  },
  {
   "cell_type": "code",
   "execution_count": 50,
   "metadata": {},
   "outputs": [
    {
     "data": {
      "text/plain": [
       "Text(0, 0.5, 'Predicted Values')"
      ]
     },
     "execution_count": 50,
     "metadata": {},
     "output_type": "execute_result"
    },
    {
     "data": {
      "image/png": "[encoded data removed]",
      "text/plain": [
       "<Figure size 432x288 with 1 Axes>"
      ]
     },
     "metadata": {},
     "output_type": "display_data"
    }
   ],
   "source": [
    "plt.scatter(Y_test,y_pred_lr)\n",
    "plt.xlabel('Y Test (True Values)')\n",
    "plt.ylabel('Predicted Values')"
   ]
  },
  {
   "cell_type": "code",
   "execution_count": 51,
   "metadata": {},
   "outputs": [
    {
     "name": "stdout",
     "output_type": "stream",
     "text": [
      "MAE  0.0\n",
      "MSE  0.0\n",
      "RMSE  0.0\n"
     ]
    }
   ],
   "source": [
    "print('MAE ', metrics.mean_absolute_error(Y_test,y_pred_lr))\n",
    "print('MSE ', metrics.mean_squared_error(Y_test,y_pred_lr))\n",
    "print('RMSE ', np.sqrt(metrics.mean_squared_error(Y_test,y_pred_lr)))"
   ]
  }
 ],
 "metadata": {
  "celltoolbar": "Raw Cell Format",
  "kernelspec": {
   "display_name": "Python 3",
   "language": "python",
   "name": "python3"
  },
  "language_info": {
   "codemirror_mode": {
    "name": "ipython",
    "version": 3
   },
   "file_extension": ".py",
   "mimetype": "text/x-python",
   "name": "python",
   "nbconvert_exporter": "python",
   "pygments_lexer": "ipython3",
   "version": "3.7.6"
  }
 },
 "nbformat": 4,
 "nbformat_minor": 2
}
